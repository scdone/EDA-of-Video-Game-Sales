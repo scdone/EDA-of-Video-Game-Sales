{
 "cells": [
  {
   "cell_type": "markdown",
   "id": "e4c7b5d6",
   "metadata": {},
   "source": [
    "# Exploratory Analysis of Video Game Sales\n",
    "\n",
    "##### by Stetson Done"
   ]
  },
  {
   "cell_type": "markdown",
   "id": "fa486d61",
   "metadata": {},
   "source": [
    "---\n",
    "Hey there! Thanks for checking out this short exploratory data analyis on video game sales. This analysis is serving as an example of how Jupyter Notebooks can be used in conjunction with Markdown & GitHub to annotate and share data analysis projects. \n",
    "\n",
    "\n",
    "### Analysis Summary\n",
    "\n",
    "> In this analysis, we'll take a look at a video game sales dataset found at https://www.kaggle.com/datasets/stetsondone/video-game-sales-by-genre.\n",
    "\n",
    "### Analysis Goals\n",
    "\n",
    "1. Find and visualize top performing genres in North America. \n",
    "2. Visualize and examine trend of \"shooter\" genre sales in all regions over the past 40 years."
   ]
  },
  {
   "cell_type": "markdown",
   "id": "a81ef1f2",
   "metadata": {},
   "source": [
    "---\n",
    "## Data Prep "
   ]
  },
  {
   "cell_type": "code",
   "execution_count": 6,
   "id": "5d89ef0a",
   "metadata": {},
   "outputs": [],
   "source": [
    "# importing necessary libraries for analysis\n",
    "import pandas as pd\n",
    "import matplotlib.pyplot as plt\n",
    "import seaborn as sns\n",
    "import plotly.express as px\n",
    "\n",
    "%matplotlib inline"
   ]
  },
  {
   "cell_type": "code",
   "execution_count": 2,
   "id": "d4e91a3c",
   "metadata": {},
   "outputs": [
    {
     "data": {
      "text/html": [
       "<div>\n",
       "<style scoped>\n",
       "    .dataframe tbody tr th:only-of-type {\n",
       "        vertical-align: middle;\n",
       "    }\n",
       "\n",
       "    .dataframe tbody tr th {\n",
       "        vertical-align: top;\n",
       "    }\n",
       "\n",
       "    .dataframe thead th {\n",
       "        text-align: right;\n",
       "    }\n",
       "</style>\n",
       "<table border=\"1\" class=\"dataframe\">\n",
       "  <thead>\n",
       "    <tr style=\"text-align: right;\">\n",
       "      <th></th>\n",
       "      <th>release_year</th>\n",
       "      <th>genre</th>\n",
       "      <th>region</th>\n",
       "      <th>sales</th>\n",
       "    </tr>\n",
       "  </thead>\n",
       "  <tbody>\n",
       "    <tr>\n",
       "      <th>0</th>\n",
       "      <td>1980</td>\n",
       "      <td>Action</td>\n",
       "      <td>North America</td>\n",
       "      <td>0.32</td>\n",
       "    </tr>\n",
       "    <tr>\n",
       "      <th>1</th>\n",
       "      <td>1980</td>\n",
       "      <td>Fighting</td>\n",
       "      <td>North America</td>\n",
       "      <td>0.72</td>\n",
       "    </tr>\n",
       "    <tr>\n",
       "      <th>2</th>\n",
       "      <td>1980</td>\n",
       "      <td>Misc</td>\n",
       "      <td>North America</td>\n",
       "      <td>2.53</td>\n",
       "    </tr>\n",
       "    <tr>\n",
       "      <th>3</th>\n",
       "      <td>1980</td>\n",
       "      <td>Shooter</td>\n",
       "      <td>North America</td>\n",
       "      <td>6.56</td>\n",
       "    </tr>\n",
       "    <tr>\n",
       "      <th>4</th>\n",
       "      <td>1980</td>\n",
       "      <td>Sports</td>\n",
       "      <td>North America</td>\n",
       "      <td>0.46</td>\n",
       "    </tr>\n",
       "  </tbody>\n",
       "</table>\n",
       "</div>"
      ],
      "text/plain": [
       "   release_year     genre         region  sales\n",
       "0          1980    Action  North America   0.32\n",
       "1          1980  Fighting  North America   0.72\n",
       "2          1980      Misc  North America   2.53\n",
       "3          1980   Shooter  North America   6.56\n",
       "4          1980    Sports  North America   0.46"
      ]
     },
     "execution_count": 2,
     "metadata": {},
     "output_type": "execute_result"
    }
   ],
   "source": [
    "# import the csv file into a DataFrame\n",
    "\n",
    "df = pd.read_csv('video_game_sales.csv')\n",
    "\n",
    "# display top 5 rows in dataframe\n",
    "df.head()"
   ]
  },
  {
   "cell_type": "markdown",
   "id": "ce035976",
   "metadata": {},
   "source": [
    "### Data Cleaning\n",
    "\n",
    "> To clean the data before analysis and visualization, we'll first validate datatypes, detect and treat duplicates, missing values, and outliers. "
   ]
  },
  {
   "cell_type": "markdown",
   "id": "7654ae03",
   "metadata": {},
   "source": [
    "###### Validating Data Types"
   ]
  },
  {
   "cell_type": "code",
   "execution_count": 10,
   "id": "6d0c06ad",
   "metadata": {},
   "outputs": [
    {
     "name": "stdout",
     "output_type": "stream",
     "text": [
      "<class 'pandas.core.frame.DataFrame'>\n",
      "RangeIndex: 1950 entries, 0 to 1949\n",
      "Data columns (total 4 columns):\n",
      " #   Column        Non-Null Count  Dtype  \n",
      "---  ------        --------------  -----  \n",
      " 0   release_year  1950 non-null   int64  \n",
      " 1   genre         1950 non-null   object \n",
      " 2   region        1950 non-null   object \n",
      " 3   sales         1950 non-null   float64\n",
      "dtypes: float64(1), int64(1), object(2)\n",
      "memory usage: 61.1+ KB\n"
     ]
    }
   ],
   "source": [
    "# printing dataframe information to check column datatypes\n",
    "\n",
    "df.info()"
   ]
  },
  {
   "cell_type": "markdown",
   "id": "7868be9b",
   "metadata": {},
   "source": [
    "It looks like all the columns here are already stored appropriately. "
   ]
  },
  {
   "cell_type": "markdown",
   "id": "b90adf42",
   "metadata": {},
   "source": [
    "###### Detecting & Treating Duplicate Values"
   ]
  },
  {
   "cell_type": "code",
   "execution_count": 4,
   "id": "6860664f",
   "metadata": {},
   "outputs": [
    {
     "data": {
      "text/html": [
       "<div>\n",
       "<style scoped>\n",
       "    .dataframe tbody tr th:only-of-type {\n",
       "        vertical-align: middle;\n",
       "    }\n",
       "\n",
       "    .dataframe tbody tr th {\n",
       "        vertical-align: top;\n",
       "    }\n",
       "\n",
       "    .dataframe thead th {\n",
       "        text-align: right;\n",
       "    }\n",
       "</style>\n",
       "<table border=\"1\" class=\"dataframe\">\n",
       "  <thead>\n",
       "    <tr style=\"text-align: right;\">\n",
       "      <th></th>\n",
       "      <th>release_year</th>\n",
       "      <th>genre</th>\n",
       "      <th>region</th>\n",
       "      <th>sales</th>\n",
       "    </tr>\n",
       "  </thead>\n",
       "  <tbody>\n",
       "  </tbody>\n",
       "</table>\n",
       "</div>"
      ],
      "text/plain": [
       "Empty DataFrame\n",
       "Columns: [release_year, genre, region, sales]\n",
       "Index: []"
      ]
     },
     "execution_count": 4,
     "metadata": {},
     "output_type": "execute_result"
    }
   ],
   "source": [
    "# checking for duplicate values... if no rows are displayed, no duplicates are present\n",
    "\n",
    "df[df.duplicated()]"
   ]
  },
  {
   "cell_type": "markdown",
   "id": "93f2acf9",
   "metadata": {},
   "source": [
    "Lucky for us, it looks like no duplicate values are present in this dataset, so no additional action needs to be taken. "
   ]
  },
  {
   "cell_type": "markdown",
   "id": "bbecd929",
   "metadata": {},
   "source": [
    "###### Detecting & Treating Missing Values "
   ]
  },
  {
   "cell_type": "code",
   "execution_count": 5,
   "id": "2233917e",
   "metadata": {},
   "outputs": [
    {
     "data": {
      "text/plain": [
       "release_year    0\n",
       "genre           0\n",
       "region          0\n",
       "sales           0\n",
       "dtype: int64"
      ]
     },
     "execution_count": 5,
     "metadata": {},
     "output_type": "execute_result"
    }
   ],
   "source": [
    "# checking for missing values - column displays with total missing values to the right of column name\n",
    "\n",
    "df.isnull().sum()"
   ]
  },
  {
   "cell_type": "markdown",
   "id": "cb76c08c",
   "metadata": {},
   "source": [
    "Based on the output above, no missing values are present in the dataset."
   ]
  },
  {
   "cell_type": "markdown",
   "id": "c6193ad3",
   "metadata": {},
   "source": [
    "###### Detecting & Treating Outliers"
   ]
  },
  {
   "cell_type": "markdown",
   "id": "3344ab3f",
   "metadata": {},
   "source": [
    "For our purposes today, we'll only be using visual methods to detect outliers by creating a boxplot and a histogram. \n",
    "\n",
    "\n",
    "We only need to do this for the 'sales' column, as the others are either the release year or categorical data. "
   ]
  },
  {
   "cell_type": "code",
   "execution_count": 33,
   "id": "0b91bb6b",
   "metadata": {
    "scrolled": false
   },
   "outputs": [
    {
     "data": {
      "image/png": "[encoded data removed]",
      "text/plain": [
       "<Figure size 1152x432 with 1 Axes>"
      ]
     },
     "metadata": {
      "needs_background": "light"
     },
     "output_type": "display_data"
    }
   ],
   "source": [
    "plt.figure(figsize=(16,6))\n",
    "\n",
    "sns.boxplot(data=df, x='sales')\n",
    "\n",
    "plt.title('Distribution of Total Sales in Millions (USD)', fontsize=22)\n",
    "\n",
    "plt.xlabel('');"
   ]
  },
  {
   "cell_type": "code",
   "execution_count": 36,
   "id": "86c9ae7a",
   "metadata": {},
   "outputs": [
    {
     "data": {
      "image/png": "[encoded data removed]",
      "text/plain": [
       "<Figure size 1152x432 with 1 Axes>"
      ]
     },
     "metadata": {
      "needs_background": "light"
     },
     "output_type": "display_data"
    }
   ],
   "source": [
    "plt.figure(figsize=(16,6))\n",
    "\n",
    "sns.histplot(data=df, x='sales')\n",
    "\n",
    "\n",
    "plt.title('Distribution of Total Sales in Millions (USD)', fontsize=22)\n",
    "\n",
    "plt.xlabel('');"
   ]
  },
  {
   "cell_type": "code",
   "execution_count": 118,
   "id": "5d8353a6",
   "metadata": {},
   "outputs": [
    {
     "data": {
      "text/plain": [
       "count    1950.000000\n",
       "mean        9.042892\n",
       "std        16.171737\n",
       "min         0.000000\n",
       "25%         0.690000\n",
       "50%         2.920000\n",
       "75%         9.580000\n",
       "max       137.660000\n",
       "Name: sales, dtype: float64"
      ]
     },
     "execution_count": 118,
     "metadata": {},
     "output_type": "execute_result"
    }
   ],
   "source": [
    "df.sales.describe()"
   ]
  },
  {
   "cell_type": "markdown",
   "id": "4798e8d0",
   "metadata": {},
   "source": [
    "As we can see in both plots above, this data is heavily skewed to the left with outliers beginning around 22 million in sales. The majority of sales were between .7 - 9.6 million dollars in sales with a median of $2.92 million in sales for genres in each region. \n",
    "\n",
    "  \n",
    "  \n",
    "Although the skewed distribution of this data shows many outliers, all numbers appear to be naturally occurring, so they will be left in the dataset."
   ]
  },
  {
   "cell_type": "markdown",
   "id": "194ec9f7",
   "metadata": {},
   "source": [
    "# Exploratory Analysis "
   ]
  },
  {
   "cell_type": "markdown",
   "id": "41d45084",
   "metadata": {},
   "source": [
    "##  Question #1 - What were the top performing genres in North America overall?"
   ]
  },
  {
   "cell_type": "markdown",
   "id": "265ceeb0",
   "metadata": {},
   "source": [
    "First, we'll use boolean indexing to narrow down the dataframe to only rows where the region is North America. Then, we'll use the .groupby() function to group the results by region and add up the total sales for each genre with .sum(). "
   ]
  },
  {
   "cell_type": "code",
   "execution_count": 38,
   "id": "71298d60",
   "metadata": {},
   "outputs": [
    {
     "data": {
      "text/plain": [
       "genre\n",
       "Action          863.17\n",
       "Adventure       101.52\n",
       "Fighting        220.51\n",
       "Misc            399.57\n",
       "Platform        444.44\n",
       "Puzzle          121.13\n",
       "Racing          356.86\n",
       "Role-Playing    330.04\n",
       "Shooter         584.83\n",
       "Simulation      180.67\n",
       "Sports          671.20\n",
       "Strategy         67.75\n",
       "Name: sales, dtype: float64"
      ]
     },
     "execution_count": 38,
     "metadata": {},
     "output_type": "execute_result"
    }
   ],
   "source": [
    "# groups data from north america by genre and adds total sales\n",
    "\n",
    "df[df['region'] == 'North America'].groupby('genre')['sales'].sum()"
   ]
  },
  {
   "cell_type": "markdown",
   "id": "466a74b6",
   "metadata": {},
   "source": [
    "Now let's save this result to a dataframe so we can easily graph it. "
   ]
  },
  {
   "cell_type": "code",
   "execution_count": 40,
   "id": "caac166f",
   "metadata": {},
   "outputs": [
    {
     "data": {
      "text/html": [
       "<div>\n",
       "<style scoped>\n",
       "    .dataframe tbody tr th:only-of-type {\n",
       "        vertical-align: middle;\n",
       "    }\n",
       "\n",
       "    .dataframe tbody tr th {\n",
       "        vertical-align: top;\n",
       "    }\n",
       "\n",
       "    .dataframe thead th {\n",
       "        text-align: right;\n",
       "    }\n",
       "</style>\n",
       "<table border=\"1\" class=\"dataframe\">\n",
       "  <thead>\n",
       "    <tr style=\"text-align: right;\">\n",
       "      <th></th>\n",
       "      <th>genre</th>\n",
       "      <th>sales</th>\n",
       "    </tr>\n",
       "  </thead>\n",
       "  <tbody>\n",
       "    <tr>\n",
       "      <th>0</th>\n",
       "      <td>Action</td>\n",
       "      <td>863.17</td>\n",
       "    </tr>\n",
       "    <tr>\n",
       "      <th>1</th>\n",
       "      <td>Adventure</td>\n",
       "      <td>101.52</td>\n",
       "    </tr>\n",
       "    <tr>\n",
       "      <th>2</th>\n",
       "      <td>Fighting</td>\n",
       "      <td>220.51</td>\n",
       "    </tr>\n",
       "    <tr>\n",
       "      <th>3</th>\n",
       "      <td>Misc</td>\n",
       "      <td>399.57</td>\n",
       "    </tr>\n",
       "    <tr>\n",
       "      <th>4</th>\n",
       "      <td>Platform</td>\n",
       "      <td>444.44</td>\n",
       "    </tr>\n",
       "    <tr>\n",
       "      <th>5</th>\n",
       "      <td>Puzzle</td>\n",
       "      <td>121.13</td>\n",
       "    </tr>\n",
       "    <tr>\n",
       "      <th>6</th>\n",
       "      <td>Racing</td>\n",
       "      <td>356.86</td>\n",
       "    </tr>\n",
       "    <tr>\n",
       "      <th>7</th>\n",
       "      <td>Role-Playing</td>\n",
       "      <td>330.04</td>\n",
       "    </tr>\n",
       "    <tr>\n",
       "      <th>8</th>\n",
       "      <td>Shooter</td>\n",
       "      <td>584.83</td>\n",
       "    </tr>\n",
       "    <tr>\n",
       "      <th>9</th>\n",
       "      <td>Simulation</td>\n",
       "      <td>180.67</td>\n",
       "    </tr>\n",
       "    <tr>\n",
       "      <th>10</th>\n",
       "      <td>Sports</td>\n",
       "      <td>671.20</td>\n",
       "    </tr>\n",
       "    <tr>\n",
       "      <th>11</th>\n",
       "      <td>Strategy</td>\n",
       "      <td>67.75</td>\n",
       "    </tr>\n",
       "  </tbody>\n",
       "</table>\n",
       "</div>"
      ],
      "text/plain": [
       "           genre   sales\n",
       "0         Action  863.17\n",
       "1      Adventure  101.52\n",
       "2       Fighting  220.51\n",
       "3           Misc  399.57\n",
       "4       Platform  444.44\n",
       "5         Puzzle  121.13\n",
       "6         Racing  356.86\n",
       "7   Role-Playing  330.04\n",
       "8        Shooter  584.83\n",
       "9     Simulation  180.67\n",
       "10        Sports  671.20\n",
       "11      Strategy   67.75"
      ]
     },
     "execution_count": 40,
     "metadata": {},
     "output_type": "execute_result"
    }
   ],
   "source": [
    "# saves the output above to a new dataframe\n",
    "\n",
    "na_sales = df[df['region'] == 'North America'].groupby('genre')['sales'].sum().to_frame().reset_index()\n",
    "\n",
    "\n",
    "# prints out new dataframe\n",
    "na_sales"
   ]
  },
  {
   "cell_type": "code",
   "execution_count": 119,
   "id": "1569ab08",
   "metadata": {},
   "outputs": [
    {
     "data": {
      "image/png": "[encoded data removed]",
      "text/plain": [
       "<Figure size 1296x720 with 1 Axes>"
      ]
     },
     "metadata": {
      "needs_background": "light"
     },
     "output_type": "display_data"
    }
   ],
   "source": [
    "plt.figure(figsize=(18,10))\n",
    "\n",
    "sns.barplot(data=na_sales.sort_values(by='sales'), x='genre', y='sales', palette='Blues')\n",
    "\n",
    "plt.title('\"Action\" genre tops North American video game sales...', fontsize=22)\n",
    "\n",
    "plt.xticks(fontsize=14)\n",
    "\n",
    "plt.xlabel('')\n",
    "\n",
    "plt.ylabel('Sales in Millions (USD)', fontsize=18)\n",
    "\n",
    "plt.text(5.2, 750, 'with $863 million in sales from 1980-2016.', fontsize=20,);\n",
    "\n"
   ]
  },
  {
   "cell_type": "markdown",
   "id": "e84ae384",
   "metadata": {},
   "source": [
    "#### Key Insights:\n",
    "\n",
    "The top three genres for games sold in North America are shooter games, sports games, and action games. "
   ]
  },
  {
   "cell_type": "markdown",
   "id": "a01776cf",
   "metadata": {},
   "source": [
    "## Question #2 - What has been the trend for sales of \"shooter\" games over the past 40 years? "
   ]
  },
  {
   "cell_type": "code",
   "execution_count": 104,
   "id": "0e174d2c",
   "metadata": {},
   "outputs": [],
   "source": [
    "shooter = df[(df['genre'] == \"Shooter\") & (df['region'] == 'Worldwide')].reset_index(drop=True)"
   ]
  },
  {
   "cell_type": "code",
   "execution_count": 107,
   "id": "95c0a4a5",
   "metadata": {},
   "outputs": [
    {
     "data": {
      "text/html": [
       "<div>\n",
       "<style scoped>\n",
       "    .dataframe tbody tr th:only-of-type {\n",
       "        vertical-align: middle;\n",
       "    }\n",
       "\n",
       "    .dataframe tbody tr th {\n",
       "        vertical-align: top;\n",
       "    }\n",
       "\n",
       "    .dataframe thead th {\n",
       "        text-align: right;\n",
       "    }\n",
       "</style>\n",
       "<table border=\"1\" class=\"dataframe\">\n",
       "  <thead>\n",
       "    <tr style=\"text-align: right;\">\n",
       "      <th></th>\n",
       "      <th>release_year</th>\n",
       "      <th>genre</th>\n",
       "      <th>region</th>\n",
       "      <th>sales</th>\n",
       "    </tr>\n",
       "  </thead>\n",
       "  <tbody>\n",
       "    <tr>\n",
       "      <th>0</th>\n",
       "      <td>1980</td>\n",
       "      <td>Shooter</td>\n",
       "      <td>Worldwide</td>\n",
       "      <td>7.07</td>\n",
       "    </tr>\n",
       "    <tr>\n",
       "      <th>1</th>\n",
       "      <td>1981</td>\n",
       "      <td>Shooter</td>\n",
       "      <td>Worldwide</td>\n",
       "      <td>10.04</td>\n",
       "    </tr>\n",
       "    <tr>\n",
       "      <th>2</th>\n",
       "      <td>1982</td>\n",
       "      <td>Shooter</td>\n",
       "      <td>Worldwide</td>\n",
       "      <td>3.79</td>\n",
       "    </tr>\n",
       "    <tr>\n",
       "      <th>3</th>\n",
       "      <td>1983</td>\n",
       "      <td>Shooter</td>\n",
       "      <td>Worldwide</td>\n",
       "      <td>0.48</td>\n",
       "    </tr>\n",
       "    <tr>\n",
       "      <th>4</th>\n",
       "      <td>1984</td>\n",
       "      <td>Shooter</td>\n",
       "      <td>Worldwide</td>\n",
       "      <td>31.10</td>\n",
       "    </tr>\n",
       "  </tbody>\n",
       "</table>\n",
       "</div>"
      ],
      "text/plain": [
       "   release_year    genre     region  sales\n",
       "0          1980  Shooter  Worldwide   7.07\n",
       "1          1981  Shooter  Worldwide  10.04\n",
       "2          1982  Shooter  Worldwide   3.79\n",
       "3          1983  Shooter  Worldwide   0.48\n",
       "4          1984  Shooter  Worldwide  31.10"
      ]
     },
     "execution_count": 107,
     "metadata": {},
     "output_type": "execute_result"
    }
   ],
   "source": [
    "shooter.head()"
   ]
  },
  {
   "cell_type": "code",
   "execution_count": 117,
   "id": "42125940",
   "metadata": {},
   "outputs": [
    {
     "data": {
      "image/png": "[encoded data removed]",
      "text/plain": [
       "<Figure size 1080x720 with 1 Axes>"
      ]
     },
     "metadata": {
      "needs_background": "light"
     },
     "output_type": "display_data"
    }
   ],
   "source": [
    "plt.figure(figsize=(15,10))\n",
    "\n",
    "sns.lineplot(data=shooter, x='release_year', y='sales')\n",
    "\n",
    "plt.xticks(fontsize=14)\n",
    "\n",
    "plt.ylabel('Sales in Millions (USD)', fontsize=14)\n",
    "\n",
    "plt.xlabel('')\n",
    "\n",
    "plt.title('Sales for \"shooter\" games plummet after dramatic growth from 2000-2010', fontsize=18);"
   ]
  },
  {
   "cell_type": "markdown",
   "id": "b7426434",
   "metadata": {},
   "source": [
    "#### Key Insights: \n",
    "\n",
    "Video games in the shooter genre saw a dramatic rise from 2000 through 2010, but have since declined rapidly in the past six years."
   ]
  }
 ],
 "metadata": {
  "kernelspec": {
   "display_name": "Python 3 (ipykernel)",
   "language": "python",
   "name": "python3"
  },
  "language_info": {
   "codemirror_mode": {
    "name": "ipython",
    "version": 3
   },
   "file_extension": ".py",
   "mimetype": "text/x-python",
   "name": "python",
   "nbconvert_exporter": "python",
   "pygments_lexer": "ipython3",
   "version": "3.9.12"
  }
 },
 "nbformat": 4,
 "nbformat_minor": 5
}
